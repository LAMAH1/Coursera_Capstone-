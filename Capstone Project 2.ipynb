{
 "cells": [
  {
   "cell_type": "markdown",
   "metadata": {
    "collapsed": true
   },
   "source": [
    "# Report \n",
    "\n",
    "\n",
    "\n",
    "## Description & Disscusion of the Background\n",
    "\n",
    "Toronto is the provincial capital of Ontario and the most populous city in Canada, with a population of 2,731,571 as of 2016.Current to 2016, the Toronto census metropolitan area (CMA), of which the majority is within the Greater Toronto Area (GTA), held a population of 5,928,040, making it Canada's most populous CMA. The city is the anchor of the Golden Horseshoe, an urban agglomeration of 9,245,438 people (as of 2016) surrounding the western end of Lake Ontario. Toronto is an international centre of business, finance, arts, and culture, and is recognized as one of the most multicultural and cosmopolitan cities in the world (source: wikipedia). These reasons above are my motivation to do this study for helping investors if they decide to invest in Toronto. \n",
    "\n",
    "We can create a map  where the real estate index is placed on Toronto and each Neighborhood is clustered according to the venue density.\n",
    "\n",
    "\n",
    "## Data Description\n",
    "\n",
    "\n",
    "\n",
    "To consider the problem we can list the datas as below:\n",
    "\n",
    "I build a  code to scrape the following Wikipedia page, [https://en.wikipedia.org/wiki/List_of_postal_codes_of_Canada:_M](https://en.wikipedia.org/wiki/List_of_postal_codes_of_Canada:_M), in order to obtain the data that is in the table of postal codes and to transform the data into a pandas dataframe, also i use the geospatial data (here is the link: [http://cocl.us/Geospatial_data](http://cocl.us/Geospatial_data). I join the both data to get a unique data frame cleaned  reduced it to necessaries columns that i used to create a map of Toronto with superimposed neighborhood. I used Forsquare API to get the most common venues of given Borough of Toronto, and cluster it. \n",
    "\n",
    "\n",
    "\n",
    "\n",
    "\n"
   ]
  },
  {
   "cell_type": "code",
   "execution_count": null,
   "metadata": {},
   "outputs": [],
   "source": []
  }
 ],
 "metadata": {
  "kernelspec": {
   "display_name": "Python 3.6",
   "language": "python",
   "name": "python3"
  },
  "language_info": {
   "codemirror_mode": {
    "name": "ipython",
    "version": 3
   },
   "file_extension": ".py",
   "mimetype": "text/x-python",
   "name": "python",
   "nbconvert_exporter": "python",
   "pygments_lexer": "ipython3",
   "version": "3.6.9"
  }
 },
 "nbformat": 4,
 "nbformat_minor": 1
}
